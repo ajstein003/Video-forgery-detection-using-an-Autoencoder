{
  "nbformat": 4,
  "nbformat_minor": 0,
  "metadata": {
    "colab": {
      "provenance": []
    },
    "kernelspec": {
      "name": "python3",
      "display_name": "Python 3"
    },
    "language_info": {
      "name": "python"
    }
  },
  "cells": [
    {
      "cell_type": "code",
      "execution_count": 170,
      "metadata": {
        "id": "kjhy7cc3w7yz"
      },
      "outputs": [],
      "source": [
        "import os\n",
        "import numpy as np\n",
        "import tensorflow as tf\n",
        "from tensorflow.keras import layers\n",
        "from sklearn.model_selection import train_test_split\n",
        "from tensorflow.keras.models import Model\n",
        "from tensorflow.keras.layers import Input, Conv2D, Conv2DTranspose\n",
        "import cv2\n",
        "import matplotlib.pyplot as plt"
      ]
    },
    {
      "cell_type": "code",
      "source": [
        "# Set the random seed for reproducibility\n",
        "np.random.seed(42)\n",
        "tf.random.set_seed(42)"
      ],
      "metadata": {
        "id": "HeN8Vh7VxAgP"
      },
      "execution_count": 118,
      "outputs": []
    },
    {
      "cell_type": "code",
      "source": [
        "# Define the autoencoder architecture\n",
        "input_shape = (64, 64, 3)  # Adjust the input shape according to your video frames\n",
        "latent_dim = 32"
      ],
      "metadata": {
        "id": "yvzgePuoxAik"
      },
      "execution_count": 119,
      "outputs": []
    },
    {
      "cell_type": "code",
      "source": [
        "# Define the input shape\n",
        "input_shape = (64, 64, 1)\n"
      ],
      "metadata": {
        "id": "jGc2iZwwjKjr"
      },
      "execution_count": 145,
      "outputs": []
    },
    {
      "cell_type": "code",
      "source": [
        "# Define the encoder layers\n",
        "inputs = Input(shape=input_shape)\n",
        "x = Conv2D(32, (3, 3), activation='relu', padding='same')(inputs)\n",
        "x = Conv2D(16, (3, 3), activation='relu', padding='same')(x)\n"
      ],
      "metadata": {
        "id": "dtDFHQb0jKqG"
      },
      "execution_count": 146,
      "outputs": []
    },
    {
      "cell_type": "code",
      "source": [
        "# Define the decoder layers\n",
        "x = Conv2DTranspose(16, (3, 3), activation='relu', padding='same')(x)\n",
        "x = Conv2DTranspose(32, (3, 3), activation='relu', padding='same')(x)\n",
        "outputs = Conv2DTranspose(1, (3, 3), activation='sigmoid', padding='same')(x)\n"
      ],
      "metadata": {
        "id": "oYdcScDEjKv1"
      },
      "execution_count": 147,
      "outputs": []
    },
    {
      "cell_type": "code",
      "source": [
        "# Create the autoencoder model\n",
        "autoencoder = Model(inputs, outputs)"
      ],
      "metadata": {
        "id": "RmBKsMALxApV"
      },
      "execution_count": 148,
      "outputs": []
    },
    {
      "cell_type": "code",
      "source": [
        "# Data preprocessing\n",
        "def load_data(directory):\n",
        "    data = []\n",
        "    labels = []\n",
        "\n",
        "    for filename in os.listdir(directory):\n",
        "        if filename.endswith('.mp4'):\n",
        "            video_path = os.path.join(directory, filename)\n",
        "\n",
        "            # Open the video file\n",
        "            cap = cv2.VideoCapture(video_path)\n",
        "\n",
        "            # Read frames until the video ends\n",
        "            while cap.isOpened():\n",
        "                ret, frame = cap.read()\n",
        "                if not ret:\n",
        "                    break\n",
        "\n",
        "                # Preprocess the frame (e.g., resize, convert to grayscale)\n",
        "                frame = cv2.resize(frame, (64, 64))\n",
        "                frame = cv2.cvtColor(frame, cv2.COLOR_BGR2GRAY)\n",
        "                frame = np.expand_dims(frame, axis=-1)  # Add channel dimension for grayscale\n",
        "\n",
        "                # Append the preprocessed frame to the data list\n",
        "                data.append(frame)\n",
        "                labels.append(0)  # Assuming fake videos have label 0\n",
        "\n",
        "            # Release the video capture object\n",
        "            cap.release()\n",
        "\n",
        "    return np.array(data), np.array(labels)\n"
      ],
      "metadata": {
        "id": "EYGSFVrfxArr"
      },
      "execution_count": 149,
      "outputs": []
    },
    {
      "cell_type": "code",
      "source": [
        "# Load the dataset\n",
        "data_dir = '/content/Video_Forgery'\n",
        "fake_dir = os.path.join(data_dir, 'fake')\n",
        "real_dir = os.path.join(data_dir, 'real')\n",
        "\n",
        "x_fake, y_fake = load_data(fake_dir)\n",
        "x_real, y_real = load_data(real_dir)\n"
      ],
      "metadata": {
        "id": "VvCbLAz2xAuT"
      },
      "execution_count": 150,
      "outputs": []
    },
    {
      "cell_type": "code",
      "source": [
        "# Select a subset of real and fake videos\n",
        "num_samples = 10\n",
        "x_data = np.concatenate((x_fake[:num_samples], x_real[:num_samples]), axis=0)\n",
        "y_data = np.concatenate((y_fake[:num_samples], y_real[:num_samples]), axis=0)\n"
      ],
      "metadata": {
        "id": "0pbcNt0mxAw5"
      },
      "execution_count": 151,
      "outputs": []
    },
    {
      "cell_type": "code",
      "source": [
        "# Split the dataset into training and testing sets\n",
        "x_train, x_test, y_train, y_test = train_test_split(x_data, y_data, test_size=0.2, random_state=42)"
      ],
      "metadata": {
        "id": "-CTr4REVxAzP"
      },
      "execution_count": 152,
      "outputs": []
    },
    {
      "cell_type": "code",
      "source": [
        "# Normalize the data\n",
        "x_fake = x_fake.astype('float32') / 255.0\n",
        "x_real = x_real.astype('float32') / 255.0"
      ],
      "metadata": {
        "id": "WOngXUqCxA1m"
      },
      "execution_count": 153,
      "outputs": []
    },
    {
      "cell_type": "code",
      "source": [
        "# Reshape the data to match the input shape of the autoencoder model\n",
        "x_fake = np.reshape(x_fake, (-1, 64, 64, 1))\n",
        "x_real = np.reshape(x_real, (-1, 64, 64, 1))\n"
      ],
      "metadata": {
        "id": "FHMtsiBdxA4N"
      },
      "execution_count": 154,
      "outputs": []
    },
    {
      "cell_type": "code",
      "source": [
        "# Convert NumPy arrays to TensorFlow tensors\n",
        "x_train_tf = tf.convert_to_tensor(x_train, dtype=tf.float32)\n",
        "x_test_tf = tf.convert_to_tensor(x_test, dtype=tf.float32)"
      ],
      "metadata": {
        "id": "TRV46HQogEdB"
      },
      "execution_count": 155,
      "outputs": []
    },
    {
      "cell_type": "code",
      "source": [
        "# Train the model for 5 times\n",
        "num_iterations = 5\n",
        "\n",
        "for i in range(num_iterations):\n",
        "    # Compile and train the model\n",
        "    autoencoder.compile(optimizer='adam', loss='mse')\n",
        "    autoencoder.fit(x_train_tf, x_train_tf, epochs=10, batch_size=32, validation_data=(x_test_tf, x_test_tf))\n"
      ],
      "metadata": {
        "colab": {
          "base_uri": "https://localhost:8080/"
        },
        "id": "BtLNwAO7n1bO",
        "outputId": "f52fdca3-8b5e-49df-d460-e3698b7f3959"
      },
      "execution_count": 173,
      "outputs": [
        {
          "output_type": "stream",
          "name": "stdout",
          "text": [
            "Epoch 1/10\n",
            "1/1 [==============================] - 2s 2s/step - loss: 16442.3848 - val_loss: 16324.4922\n",
            "Epoch 2/10\n",
            "1/1 [==============================] - 0s 396ms/step - loss: 16335.2637 - val_loss: 16234.5469\n",
            "Epoch 3/10\n",
            "1/1 [==============================] - 0s 323ms/step - loss: 16245.1318 - val_loss: 16213.6377\n",
            "Epoch 4/10\n",
            "1/1 [==============================] - 0s 238ms/step - loss: 16224.2734 - val_loss: 16212.6572\n",
            "Epoch 5/10\n",
            "1/1 [==============================] - 0s 229ms/step - loss: 16223.3076 - val_loss: 16212.4951\n",
            "Epoch 6/10\n",
            "1/1 [==============================] - 0s 243ms/step - loss: 16223.1484 - val_loss: 16212.4678\n",
            "Epoch 7/10\n",
            "1/1 [==============================] - 0s 245ms/step - loss: 16223.1211 - val_loss: 16212.4619\n",
            "Epoch 8/10\n",
            "1/1 [==============================] - 0s 219ms/step - loss: 16223.1143 - val_loss: 16212.4600\n",
            "Epoch 9/10\n",
            "1/1 [==============================] - 0s 238ms/step - loss: 16223.1133 - val_loss: 16212.4600\n",
            "Epoch 10/10\n",
            "1/1 [==============================] - 0s 222ms/step - loss: 16223.1123 - val_loss: 16212.4600\n",
            "Epoch 1/10\n",
            "1/1 [==============================] - 1s 1s/step - loss: 16223.1123 - val_loss: 16212.4600\n",
            "Epoch 2/10\n",
            "1/1 [==============================] - 0s 223ms/step - loss: 16223.1113 - val_loss: 16212.4600\n",
            "Epoch 3/10\n",
            "1/1 [==============================] - 0s 233ms/step - loss: 16223.1113 - val_loss: 16212.4600\n",
            "Epoch 4/10\n",
            "1/1 [==============================] - 0s 231ms/step - loss: 16223.1123 - val_loss: 16212.4600\n",
            "Epoch 5/10\n",
            "1/1 [==============================] - 0s 241ms/step - loss: 16223.1113 - val_loss: 16212.4600\n",
            "Epoch 6/10\n",
            "1/1 [==============================] - 0s 220ms/step - loss: 16223.1113 - val_loss: 16212.4600\n",
            "Epoch 7/10\n",
            "1/1 [==============================] - 0s 231ms/step - loss: 16223.1113 - val_loss: 16212.4600\n",
            "Epoch 8/10\n",
            "1/1 [==============================] - 0s 234ms/step - loss: 16223.1123 - val_loss: 16212.4600\n",
            "Epoch 9/10\n",
            "1/1 [==============================] - 0s 228ms/step - loss: 16223.1123 - val_loss: 16212.4600\n",
            "Epoch 10/10\n",
            "1/1 [==============================] - 0s 228ms/step - loss: 16223.1113 - val_loss: 16212.4600\n",
            "Epoch 1/10\n",
            "1/1 [==============================] - 1s 1s/step - loss: 16223.1123 - val_loss: 16212.4600\n",
            "Epoch 2/10\n",
            "1/1 [==============================] - 0s 227ms/step - loss: 16223.1113 - val_loss: 16212.4600\n",
            "Epoch 3/10\n",
            "1/1 [==============================] - 0s 241ms/step - loss: 16223.1113 - val_loss: 16212.4600\n",
            "Epoch 4/10\n",
            "1/1 [==============================] - 0s 240ms/step - loss: 16223.1123 - val_loss: 16212.4600\n",
            "Epoch 5/10\n",
            "1/1 [==============================] - 0s 229ms/step - loss: 16223.1113 - val_loss: 16212.4600\n",
            "Epoch 6/10\n",
            "1/1 [==============================] - 0s 226ms/step - loss: 16223.1113 - val_loss: 16212.4600\n",
            "Epoch 7/10\n",
            "1/1 [==============================] - 0s 237ms/step - loss: 16223.1113 - val_loss: 16212.4600\n",
            "Epoch 8/10\n",
            "1/1 [==============================] - 0s 235ms/step - loss: 16223.1123 - val_loss: 16212.4600\n",
            "Epoch 9/10\n",
            "1/1 [==============================] - 0s 267ms/step - loss: 16223.1123 - val_loss: 16212.4600\n",
            "Epoch 10/10\n",
            "1/1 [==============================] - 0s 404ms/step - loss: 16223.1113 - val_loss: 16212.4600\n",
            "Epoch 1/10\n",
            "1/1 [==============================] - 1s 1s/step - loss: 16223.1123 - val_loss: 16212.4600\n",
            "Epoch 2/10\n",
            "1/1 [==============================] - 0s 224ms/step - loss: 16223.1113 - val_loss: 16212.4600\n",
            "Epoch 3/10\n",
            "1/1 [==============================] - 0s 226ms/step - loss: 16223.1113 - val_loss: 16212.4600\n",
            "Epoch 4/10\n",
            "1/1 [==============================] - 0s 249ms/step - loss: 16223.1123 - val_loss: 16212.4600\n",
            "Epoch 5/10\n",
            "1/1 [==============================] - 0s 228ms/step - loss: 16223.1113 - val_loss: 16212.4600\n",
            "Epoch 6/10\n",
            "1/1 [==============================] - 0s 217ms/step - loss: 16223.1113 - val_loss: 16212.4600\n",
            "Epoch 7/10\n",
            "1/1 [==============================] - 0s 228ms/step - loss: 16223.1113 - val_loss: 16212.4600\n",
            "Epoch 8/10\n",
            "1/1 [==============================] - 0s 236ms/step - loss: 16223.1123 - val_loss: 16212.4600\n",
            "Epoch 9/10\n",
            "1/1 [==============================] - 0s 231ms/step - loss: 16223.1123 - val_loss: 16212.4600\n",
            "Epoch 10/10\n",
            "1/1 [==============================] - 0s 226ms/step - loss: 16223.1113 - val_loss: 16212.4600\n",
            "Epoch 1/10\n",
            "1/1 [==============================] - 1s 1s/step - loss: 16223.1123 - val_loss: 16212.4600\n",
            "Epoch 2/10\n",
            "1/1 [==============================] - 0s 251ms/step - loss: 16223.1113 - val_loss: 16212.4600\n",
            "Epoch 3/10\n",
            "1/1 [==============================] - 0s 227ms/step - loss: 16223.1113 - val_loss: 16212.4600\n",
            "Epoch 4/10\n",
            "1/1 [==============================] - 0s 231ms/step - loss: 16223.1123 - val_loss: 16212.4600\n",
            "Epoch 5/10\n",
            "1/1 [==============================] - 0s 233ms/step - loss: 16223.1113 - val_loss: 16212.4600\n",
            "Epoch 6/10\n",
            "1/1 [==============================] - 0s 234ms/step - loss: 16223.1113 - val_loss: 16212.4600\n",
            "Epoch 7/10\n",
            "1/1 [==============================] - 0s 221ms/step - loss: 16223.1113 - val_loss: 16212.4600\n",
            "Epoch 8/10\n",
            "1/1 [==============================] - 0s 239ms/step - loss: 16223.1123 - val_loss: 16212.4600\n",
            "Epoch 9/10\n",
            "1/1 [==============================] - 0s 219ms/step - loss: 16223.1123 - val_loss: 16212.4600\n",
            "Epoch 10/10\n",
            "1/1 [==============================] - 0s 220ms/step - loss: 16223.1113 - val_loss: 16212.4600\n"
          ]
        }
      ]
    },
    {
      "cell_type": "code",
      "source": [
        "# Use the trained autoencoder for video forgery detection\n",
        "decoded_videos = autoencoder.predict(x_fake)"
      ],
      "metadata": {
        "colab": {
          "base_uri": "https://localhost:8080/"
        },
        "id": "qewCSD6AxA6S",
        "outputId": "9786e04d-1411-4844-b746-9be52773389f"
      },
      "execution_count": 174,
      "outputs": [
        {
          "output_type": "stream",
          "name": "stdout",
          "text": [
            "51/51 [==============================] - 6s 118ms/step\n"
          ]
        }
      ]
    },
    {
      "cell_type": "code",
      "source": [
        "# Calculate the mean squared error (MSE) between the original and decoded videos\n",
        "decoded_videos = autoencoder.predict(x_test)\n",
        "mse = np.mean((x_test - decoded_videos) ** 2)\n",
        "threshold = 0.01  # Define a threshold for detecting forgery\n",
        "\n",
        "# Compare MSE with the threshold to detect forgery\n",
        "if mse > threshold:\n",
        "    print(\"Forgery detected!\")\n",
        "else:\n",
        "    print(\"No forgery detected.\")"
      ],
      "metadata": {
        "colab": {
          "base_uri": "https://localhost:8080/"
        },
        "id": "4qLgKJrRzIHw",
        "outputId": "bacb41e2-b064-4b61-fb50-439fb6450b93"
      },
      "execution_count": 175,
      "outputs": [
        {
          "output_type": "stream",
          "name": "stdout",
          "text": [
            "1/1 [==============================] - 0s 87ms/step\n",
            "Forgery detected!\n"
          ]
        }
      ]
    },
    {
      "cell_type": "code",
      "source": [
        "# Perform evaluation\n",
        "y_pred = (mse < threshold).astype(int)\n"
      ],
      "metadata": {
        "id": "IXd8fe8sOjfL"
      },
      "execution_count": 176,
      "outputs": []
    },
    {
      "cell_type": "code",
      "source": [
        "# Print evaluation metrics\n",
        "accuracy = np.mean(y_pred == y_test)\n",
        "print(\"Accuracy: {:.2f}%\".format(accuracy * 100))"
      ],
      "metadata": {
        "colab": {
          "base_uri": "https://localhost:8080/"
        },
        "id": "NsiRSkeRxA8X",
        "outputId": "9e6814c6-70cc-4193-893a-701a363db5c4"
      },
      "execution_count": 178,
      "outputs": [
        {
          "output_type": "stream",
          "name": "stdout",
          "text": [
            "Accuracy: 100.00%\n"
          ]
        }
      ]
    },
    {
      "cell_type": "code",
      "source": [
        "# Plotting the evaluation graphs\n",
        "plt.figure(figsize=(12, 6))"
      ],
      "metadata": {
        "colab": {
          "base_uri": "https://localhost:8080/",
          "height": 53
        },
        "id": "ZYNtCvHWnZS-",
        "outputId": "db90d7ef-3983-44cb-a808-8044f45e72cd"
      },
      "execution_count": 179,
      "outputs": [
        {
          "output_type": "execute_result",
          "data": {
            "text/plain": [
              "<Figure size 1200x600 with 0 Axes>"
            ]
          },
          "metadata": {},
          "execution_count": 179
        },
        {
          "output_type": "display_data",
          "data": {
            "text/plain": [
              "<Figure size 1200x600 with 0 Axes>"
            ]
          },
          "metadata": {}
        }
      ]
    },
    {
      "cell_type": "code",
      "source": [
        "# Plot MSE values\n",
        "plt.subplot(1, 2, 1)\n",
        "plt.plot(mse)\n",
        "plt.axhline(y=threshold, color='r', linestyle='--')\n",
        "plt.title('Mean Squared Error (MSE)')\n",
        "plt.xlabel('Sample')\n",
        "plt.ylabel('MSE')\n",
        "plt.legend(['MSE', 'Threshold'])\n",
        "\n",
        "# Plot accuracy values\n",
        "plt.subplot(1, 2, 2)\n",
        "plt.plot(y_pred, 'o-', label='Predicted')\n",
        "plt.plot(y_test, 'x-', label='Ground Truth')\n",
        "plt.title('Forgery Detection')\n",
        "plt.xlabel('Sample')\n",
        "plt.ylabel('Label')\n",
        "plt.legend(['Predicted', 'Ground Truth'])\n",
        "\n",
        "plt.tight_layout()\n",
        "plt.show()"
      ],
      "metadata": {
        "colab": {
          "base_uri": "https://localhost:8080/",
          "height": 487
        },
        "id": "FQdJly1hncKB",
        "outputId": "f0f53469-4adf-4783-f4f4-6e21993f76c0"
      },
      "execution_count": 180,
      "outputs": [
        {
          "output_type": "display_data",
          "data": {
            "text/plain": [
              "<Figure size 640x480 with 2 Axes>"
            ],
            "image/png": "[encoded data removed]"
          },
          "metadata": {}
        }
      ]
    }
  ]
}